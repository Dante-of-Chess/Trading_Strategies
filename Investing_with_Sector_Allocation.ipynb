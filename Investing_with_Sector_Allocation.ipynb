{
 "cells": [
  {
   "cell_type": "code",
   "execution_count": 5,
   "metadata": {},
   "outputs": [],
   "source": [
    "import pandas as pd\n",
    "import numpy as np\n",
    "import yfinance as yf\n",
    "from pypfopt import EfficientFrontier, risk_models, expected_returns, objective_functions\n",
    "from pypfopt.discrete_allocation import DiscreteAllocation, get_latest_prices\n",
    "import warnings\n",
    "warnings.filterwarnings(\"ignore\")\n"
   ]
  },
  {
   "cell_type": "code",
   "execution_count": 6,
   "metadata": {},
   "outputs": [
    {
     "data": {
      "text/plain": [
       "Index(['Ticker', 'Name', 'Sector', 'Country'], dtype='object')"
      ]
     },
     "execution_count": 6,
     "metadata": {},
     "output_type": "execute_result"
    }
   ],
   "source": [
    "data=pd.read_excel(\"Stock List.xlsx\")\n",
    "data\n",
    "remove_stock=['OSG','MSTR']\n",
    "data=data[~data['Ticker'].isin(remove_stock)] \n",
    "# data=data[data['Country']=='USA']\n",
    "# data=data.iloc[:1000]\n",
    "data.keys()"
   ]
  },
  {
   "cell_type": "code",
   "execution_count": 7,
   "metadata": {},
   "outputs": [],
   "source": [
    "All_Tickers=data.Ticker.to_list()\n",
    "All_Tickers = [ticker for ticker in All_Tickers if isinstance(ticker, str)]\n",
    "sectors = data['Sector'].to_list()\n"
   ]
  },
  {
   "cell_type": "code",
   "execution_count": 8,
   "metadata": {},
   "outputs": [
    {
     "name": "stdout",
     "output_type": "stream",
     "text": [
      "[******                12%%                      ]  818 of 6580 completed"
     ]
    },
    {
     "name": "stderr",
     "output_type": "stream",
     "text": [
      "Failed to get ticker 'CRD/A' reason: Expecting value: line 1 column 1 (char 0)\n"
     ]
    },
    {
     "name": "stdout",
     "output_type": "stream",
     "text": [
      "[****************      33%%                      ]  2204 of 6580 completed"
     ]
    },
    {
     "name": "stderr",
     "output_type": "stream",
     "text": [
      "Failed to get ticker 'BRK/B' reason: Expecting value: line 1 column 1 (char 0)\n"
     ]
    },
    {
     "name": "stdout",
     "output_type": "stream",
     "text": [
      "[*****************     36%%                      ]  2392 of 6580 completed"
     ]
    },
    {
     "name": "stderr",
     "output_type": "stream",
     "text": [
      "Failed to get ticker 'HEI/A' reason: Expecting value: line 1 column 1 (char 0)\n"
     ]
    },
    {
     "name": "stdout",
     "output_type": "stream",
     "text": [
      "[******************    37%%                      ]  2450 of 6580 completed"
     ]
    },
    {
     "name": "stderr",
     "output_type": "stream",
     "text": [
      "Failed to get ticker 'BF/B' reason: Expecting value: line 1 column 1 (char 0)\n"
     ]
    },
    {
     "name": "stdout",
     "output_type": "stream",
     "text": [
      "[*******************   39%%                      ]  2557 of 6580 completed"
     ]
    },
    {
     "name": "stderr",
     "output_type": "stream",
     "text": [
      "Failed to get ticker 'CRD/B' reason: Expecting value: line 1 column 1 (char 0)\n"
     ]
    },
    {
     "name": "stdout",
     "output_type": "stream",
     "text": [
      "[********************  42%%                      ]  2774 of 6580 completed"
     ]
    },
    {
     "name": "stderr",
     "output_type": "stream",
     "text": [
      "Failed to get ticker 'BRK/A' reason: Expecting value: line 1 column 1 (char 0)\n"
     ]
    },
    {
     "name": "stdout",
     "output_type": "stream",
     "text": [
      "[**********************48%%                      ]  3146 of 6580 completed"
     ]
    },
    {
     "name": "stderr",
     "output_type": "stream",
     "text": [
      "Failed to get ticker 'WSO/B' reason: Expecting value: line 1 column 1 (char 0)\n"
     ]
    },
    {
     "name": "stdout",
     "output_type": "stream",
     "text": [
      "[**********************62%%****                  ]  4055 of 6580 completed"
     ]
    },
    {
     "name": "stderr",
     "output_type": "stream",
     "text": [
      "Failed to get ticker 'HVT/A' reason: Expecting value: line 1 column 1 (char 0)\n"
     ]
    },
    {
     "name": "stdout",
     "output_type": "stream",
     "text": [
      "[**********************69%%*******               ]  4564 of 6580 completed"
     ]
    },
    {
     "name": "stderr",
     "output_type": "stream",
     "text": [
      "Failed to get ticker 'AKO/B' reason: Expecting value: line 1 column 1 (char 0)\n"
     ]
    },
    {
     "name": "stdout",
     "output_type": "stream",
     "text": [
      "[**********************77%%***********           ]  5084 of 6580 completed"
     ]
    },
    {
     "name": "stderr",
     "output_type": "stream",
     "text": [
      "Failed to get ticker 'BIO/B' reason: Expecting value: line 1 column 1 (char 0)\n"
     ]
    },
    {
     "name": "stdout",
     "output_type": "stream",
     "text": [
      "[**********************93%%*******************   ]  6087 of 6580 completed"
     ]
    },
    {
     "name": "stderr",
     "output_type": "stream",
     "text": [
      "Failed to get ticker 'AKO/A' reason: Expecting value: line 1 column 1 (char 0)\n"
     ]
    },
    {
     "name": "stdout",
     "output_type": "stream",
     "text": [
      "[**********************95%%********************  ]  6251 of 6580 completed"
     ]
    },
    {
     "name": "stderr",
     "output_type": "stream",
     "text": [
      "Failed to get ticker 'BF/A' reason: Expecting value: line 1 column 1 (char 0)\n"
     ]
    },
    {
     "name": "stdout",
     "output_type": "stream",
     "text": [
      "[*********************100%%**********************]  6580 of 6580 completed"
     ]
    },
    {
     "name": "stderr",
     "output_type": "stream",
     "text": [
      "\n",
      "416 Failed downloads:\n",
      "['USB^A', 'SYF^A', 'AUB^A', 'FHN^E', 'COF^J', 'CMS^B', 'ALTG^A', 'BAC^M', 'GAM^B', 'GS^C', 'CADE^A', 'BEP^A', 'TRTN^A', 'GLP^B', 'AGM^D', 'BML^G', 'TRTN^B', 'VNO^L', 'MET^E', 'COF^I', 'PMT^A', 'DLR^K', 'GGT^G', 'JPM^M', 'JPM^L', 'CMRE^B', 'EPR^C', 'JPM^C', 'BIP^A', 'LXP^C', 'INN^F', 'BAC^L', 'BML^H', 'MAA^I', 'AHT^F', 'GAB^K', 'AGM^E', 'BIP^B', 'JPM^K', 'UMH^D', 'DBRG^I', 'NEE^S', 'CRD/A', 'LNC^D', 'TWO^B', 'KEY^I', 'VNO^M', 'MET^F', 'PSA^I', 'RITM^D', 'EFC^B', 'KEY^J', 'CDR^C', 'ACP^A', 'XFLT^A', 'COF^K', 'BML^J', 'SPE^C', 'TFC^I', 'PSA^F', 'DLR^J', 'PSA^G', 'PEB^H', 'SCHW^J', 'DLR^L', 'GNL^B', 'BAC^K', 'FHN^C', 'NSA^A', 'C^N', 'EP^C', 'PEB^F', 'BAC^B', 'BAC^O', 'TDS^V', 'CDR^B', 'MS^E', 'OAK^B', 'CTA^B', 'SEAL^A', 'JPM^J', 'ADC^A', 'MFA^B', 'GNT^A', 'AHL^C', 'HL^B', 'REXR^C', 'PSA^P', 'CIM^D', 'WRB^F', 'EQH^C', 'ALL^B', 'ARGO^A', 'ALL^J', 'CIM^C', 'OPP^B', 'HPP^C', 'GLOP^C', 'PSA^N', 'RF^B', 'SCE^H', 'EQH^A', 'PSA^R', 'CODI^A', 'ACR^C', 'REXR^B', 'PSA^J', 'TWO^A', 'SCHW^D', 'PMT^C', 'CIO^A', 'MS^A', 'ANG^B', 'TFC^R', 'WFC^Y', 'AXS^E', 'VOYA^B', 'RC^C', 'O^', 'ATH^B', 'WFC^Z', 'CLDT^A', 'FRT^C', 'TFC^O', 'RWT^A', 'SB^C', 'GS^A', 'BRK/B', 'CIM^B', 'SF^B', 'NEE^R', 'WBS^G', 'BAC^P', 'GNL^A', 'HEI/A', 'APO^A', 'BF/B', 'SCE^G', 'GUT^C', 'EFC^A', 'KEY^K', 'NGL^C', 'MS^I', 'GAB^G', 'NREF^A', 'NGL^B', 'CRD/B', 'WFC^D', 'TRTN^D', 'TRTN^C', 'SF^C', 'SCE^M', 'WBS^F', 'ATH^E', 'MER^K', 'ABR^E', 'NEE^N', 'BRK/A', 'TY^', 'GGT^E', 'CMRE^D', 'PEB^E', 'RF^C', 'ATH^A', 'BFS^E', 'WFC^C', 'FHN^B', 'NXDT^A', 'MITT^C', 'PSA^M', 'MS^L', 'DSX^B', 'OAK^A', 'WSO/B', 'DRH^A', 'RJF^B', 'SCE^J', 'SEAL^B', 'KREF^A', 'ALB^A', 'DBRG^J', 'BOH^A', 'ATH^D', 'RNR^F', 'F^B', 'CTA^A', 'SCE^L', 'MFA^C', 'ALL^I', 'FBRT^E', 'AHT^I', 'DLNG^A', 'ATH^C', 'ASB^E', 'CMRE^C', 'STT^G', 'AHT^H', 'CODI^C', 'WFC^A', 'BHR^B', 'BAC^N', 'CFR^B', 'BML^L', 'CFG^D', 'GS^D', 'PSA^O', 'EQC^D', 'USB^R', 'COF^N', 'KEY^L', 'SNV^E', 'FHN^F', 'WRB^H', 'NYCB^A', 'TRTX^C', 'RNR^G', 'AHT^G', 'VNO^O', 'AHL^E', 'BANC^F', 'HIG^G', 'COF^L', 'ECC^D', 'SPG^J', 'TDS^U', 'HVT/A', 'NCZ^A', 'IIPR^A', 'DBRG^H', 'NLY^G', 'TRTN^E', 'GLOP^B', 'RF^E', 'MS^K', 'RITM^A', 'CFG^H', 'EFC^D', 'ASB^F', 'BC^B', 'CMRE^E', 'KIM^N', 'GNL^E', 'ANG^A', 'IVR^B', 'RLJ^A', 'PRE^J', 'MS^F', 'SF^D', 'GAB^H', 'MS^O', 'PSA^S', 'WFC^L', 'PSA^K', 'AKO/B', 'ABR^D', 'DUK^A', 'USB^S', 'ACR^D', 'PSEC^A', 'KIM^L', 'CMS^C', 'NLY^I', 'AL^A', 'GLOP^A', 'TWO^C', 'MET^A', 'GDL^C', 'SITC^A', 'WRB^E', 'JXN^A', 'GL^D', 'HFRO^A', 'SNV^D', 'EFC^E', 'BAC^E', 'CUBI^E', 'PSA^L', 'AHH^A', 'BIO/B', 'BAC^S', 'KIM^M', 'VNO^N', 'SLG^I', 'RITM^B', 'SHO^H', 'EPR^E', 'GNL^D', 'WRB^G', 'CTO^A', 'CNO^A', 'AGM^C', 'ECC           ', 'OPP^A', 'PSA^Q', 'MITT^B', 'NCV^A', 'IVR^C', 'BW^A', 'USB^P', 'CSR^C', 'BHR^D', 'TNP^E', 'GRBK^A', 'WAL^A', 'SPLP^A', 'LFT^A', 'SCE^N', 'SB^D', 'AGM^F', 'AGM^G', 'MS^P', 'ABR^F', 'BFS^D', 'GPMT^A', 'ATCO^H', 'CIM^A', 'USB^Q', 'GDV^K', 'AMH^H', 'CUBI^F', 'EFC^C', 'SCE^K', 'BAC^Q', 'CFG^E', 'RC^E', 'AMH^G', 'SHO^I', 'PBI^B', 'EPR^G', 'WCC^A', 'BOH^B', 'F^D', 'T^C', 'INN^E', 'DLNG^B', 'SPNT^B', 'CODI^B', 'ETI^', 'GTLS^B', 'AKO/A', 'PEB^G', 'USB^H', 'NLY^F', 'DX^C', 'BC^A', 'AHT^D', 'BC^C', 'ALL^H', 'ARR^C', 'TNP^F', 'BF/A', 'GMRE^A', 'SYF^B', 'NYCB^U', 'MTB^H', 'SRG^A', 'SAND          ', 'ATCO^D', 'RITM^C', 'SR^A', 'MITT^A', 'ET^I', 'AHL^D', 'PSA^H', 'GDV^H', 'PMT^B', 'F^C', 'T^A', 'JPM^D', 'GSL^B', 'MTB^J']: Exception('%ticker%: No timezone found, symbol may be delisted')\n",
      "['YOTAR', 'ALSAR', 'MCACR', 'ATMCR', 'NNAGR', 'GDSTR', 'BOWNR', 'GLLIR', 'AFJKR', 'GLACR', 'SFB', 'IGTAR', 'IBACR', 'TENKR', 'RFACR', 'GBBKR', 'IROHR', 'MCAGR', 'NVACR', 'CNFRZ', 'DYCQR', 'BNIXR', 'ATMVR', 'SVIIR', 'TMTCR', 'HHGCR', 'NOVVR', 'BUJAR', 'CLOER', 'GECCZ', 'WTMAR', 'GODNR', 'KACLR', 'HSPOR', 'CETUR', 'BKHAR', 'ESHAR', 'QETAR', 'ASCBR', 'WINVR', 'DISTR', 'JVSAR']: Exception(\"%ticker%: Period 'max' is invalid, must be one of ['1d', '5d']\")\n",
      "['EAI', 'EMP']: Exception('%ticker%: No price data found, symbol may be delisted (1d 2023-01-01 -> 2024-07-07)')\n",
      "['MITAW']: IndexError('index 0 is out of bounds for axis 0 with size 0')\n"
     ]
    },
    {
     "name": "stdout",
     "output_type": "stream",
     "text": [
      "\n"
     ]
    }
   ],
   "source": [
    "prices_data = yf.download(All_Tickers, start='2023-01-01')['Adj Close']\n"
   ]
  },
  {
   "cell_type": "code",
   "execution_count": 9,
   "metadata": {},
   "outputs": [],
   "source": [
    "prices_data.to_csv(\"Price_Data.csv\")"
   ]
  },
  {
   "cell_type": "code",
   "execution_count": null,
   "metadata": {},
   "outputs": [],
   "source": [
    "import datetime\n",
    "start_date = datetime.datetime.today() - pd.DateOffset(months=6)\n",
    "prices_train = prices_data.loc[start_date:]\n",
    "df = prices_train.copy()\n",
    "df = df.loc[:, ~(df < 1).any()]\n",
    "# df=df.ffill()\n",
    "df = df.dropna(axis=1)\n",
    "df"
   ]
  },
  {
   "cell_type": "code",
   "execution_count": null,
   "metadata": {},
   "outputs": [],
   "source": [
    "# mu = expected_returns.mean_historical_return(df)\n",
    "# S = risk_models.risk_matrix(df, method='ledoit_wolf')\n",
    "# ef = EfficientFrontier(mu, S,weight_bounds=(0, 0.4))\n",
    "# i = 0\n",
    "# while True:\n",
    "#     try:\n",
    "#         raw_weights = ef.efficient_return(target_return=mu.max()-i)\n",
    "#         print(f\"Selected i is {i}\")\n",
    "#         break\n",
    "#     except Exception as e:\n",
    "#         # print(f\"Error for i={i}: {e}\")\n",
    "#         i += 0.01\n",
    "\n",
    "# print(f\"First successful i: {i}\")\n",
    "# print(f\"Raw weights: {raw_weights}\")\n",
    "# # raw_weights=ef.max_sharpe()\n",
    "# cleaned_weights = ef.clean_weights()\n",
    "# ef.portfolio_performance(verbose=True)\n",
    "# filtered_data = [(name, value) for name, value in cleaned_weights.items() if value > 0.1]\n",
    "# print(filtered_data)"
   ]
  },
  {
   "cell_type": "code",
   "execution_count": null,
   "metadata": {},
   "outputs": [],
   "source": [
    "mu = expected_returns.mean_historical_return(df)\n",
    "S = risk_models.risk_matrix(df, method='ledoit_wolf')\n",
    "\n",
    "# Initialize Efficient Frontier with sector constraints\n",
    "sector_info = data.set_index('Ticker')['Sector'].to_dict()\n",
    "sector_max_allocation = {sector: 0.2 for sector in set(sector_info.values())}\n",
    "sector_map = {sector: [] for sector in sector_max_allocation.keys()}\n",
    "for ticker in df.columns:\n",
    "    sector = sector_info.get(ticker, None)\n",
    "    if sector:\n",
    "        sector_map[sector].append(ticker)"
   ]
  },
  {
   "cell_type": "code",
   "execution_count": null,
   "metadata": {},
   "outputs": [],
   "source": [
    "sector_map = {sector: [] for sector in sector_max_allocation.keys()}\n",
    "for ticker in df.columns:\n",
    "    sector = sector_info.get(ticker, None)\n",
    "    if sector:\n",
    "        sector_map[sector].append(ticker)\n",
    "\n",
    "# Efficient Frontier\n",
    "ef = EfficientFrontier(mu, S, weight_bounds=(0, 0.4))\n",
    "\n",
    "# Add sector constraints directly\n",
    "for sector, tickers in sector_map.items():\n",
    "    indices = [df.columns.get_loc(ticker) for ticker in tickers if ticker in df.columns]\n",
    "    if indices:\n",
    "        ef.add_constraint(lambda w, indices=indices: sum(w[i] for i in indices) <= sector_max_allocation[sector])\n",
    "\n",
    "# Optimize portfolio for max Sharpe ratio\n",
    "# raw_weights = ef.max_sharpe()\n",
    "i = 0\n",
    "while True:\n",
    "    try:\n",
    "        raw_weights = ef.efficient_return(target_return=mu.max()-i)\n",
    "        print(f\"Selected i is {i}\")\n",
    "        break\n",
    "    except Exception as e:\n",
    "        # print(f\"Error for i={i}: {e}\")\n",
    "        i += 0.01\n",
    "# Clean weights and display performance\n",
    "cleaned_weights = ef.clean_weights()\n",
    "ef.portfolio_performance(verbose=True)\n",
    "\n",
    "# Filter non-zero weights\n",
    "filtered_data = [(name, value) for name, value in cleaned_weights.items() if value > 0.01]\n",
    "print(filtered_data)"
   ]
  },
  {
   "cell_type": "code",
   "execution_count": null,
   "metadata": {},
   "outputs": [],
   "source": [
    "pd.DataFrame(filtered_data)"
   ]
  },
  {
   "cell_type": "code",
   "execution_count": null,
   "metadata": {},
   "outputs": [],
   "source": []
  }
 ],
 "metadata": {
  "kernelspec": {
   "display_name": "Python 3",
   "language": "python",
   "name": "python3"
  },
  "language_info": {
   "codemirror_mode": {
    "name": "ipython",
    "version": 3
   },
   "file_extension": ".py",
   "mimetype": "text/x-python",
   "name": "python",
   "nbconvert_exporter": "python",
   "pygments_lexer": "ipython3",
   "version": "3.9.13"
  }
 },
 "nbformat": 4,
 "nbformat_minor": 2
}
