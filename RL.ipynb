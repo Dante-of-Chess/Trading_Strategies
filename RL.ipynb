{
 "cells": [
  {
   "cell_type": "code",
   "execution_count": 6,
   "metadata": {},
   "outputs": [
    {
     "data": {
      "text/plain": [
       "(array([[ 7.656429  ,  0.01321459],\n",
       "        [ 7.534643  , -0.12178564],\n",
       "        [ 7.520714  , -0.01392937],\n",
       "        [ 7.570714  ,  0.05000019],\n",
       "        [ 7.503929  , -0.06678486]], dtype=float32),\n",
       " {'total_reward': 0.0, 'total_profit': 1.0, 'position': <Positions.Short: 0>})"
      ]
     },
     "execution_count": 6,
     "metadata": {},
     "output_type": "execute_result"
    }
   ],
   "source": [
    "import pandas as pd\n",
    "import numpy as np\n",
    "import yfinance as yf\n",
    "import gymnasium as gym\n",
    "import gym_anytrading\n",
    "from stable_baselines3 import A2C\n",
    "from gym import spaces\n",
    "import ta\n"
   ]
  },
  {
   "cell_type": "code",
   "execution_count": 7,
   "metadata": {},
   "outputs": [
    {
     "name": "stdout",
     "output_type": "stream",
     "text": [
      "[*********************100%%**********************]  1 of 1 completed\n"
     ]
    }
   ],
   "source": [
    "df = yf.download('AAPL',start='2010-01-01')\n"
   ]
  }
 ],
 "metadata": {
  "kernelspec": {
   "display_name": "Python 3",
   "language": "python",
   "name": "python3"
  },
  "language_info": {
   "codemirror_mode": {
    "name": "ipython",
    "version": 3
   },
   "file_extension": ".py",
   "mimetype": "text/x-python",
   "name": "python",
   "nbconvert_exporter": "python",
   "pygments_lexer": "ipython3",
   "version": "3.9.13"
  }
 },
 "nbformat": 4,
 "nbformat_minor": 2
}
