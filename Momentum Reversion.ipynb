{
 "cells": [
  {
   "cell_type": "code",
   "execution_count": null,
   "metadata": {},
   "outputs": [],
   "source": [
    "import pandas as pd\n",
    "import numpy as np\n",
    "import matplotlib.pyplot as plt\n",
    "from datetime import datetime, timedelta\n",
    "import vectorbt as vbt\n",
    "import ta"
   ]
  },
  {
   "cell_type": "code",
   "execution_count": null,
   "metadata": {},
   "outputs": [],
   "source": [
    "BTC=pd.read_csv('BTCUSDT.csv')\n",
    "BTC=BTC.set_index(\"Date\")\n"
   ]
  },
  {
   "cell_type": "code",
   "execution_count": null,
   "metadata": {},
   "outputs": [],
   "source": [
    "def Technical_indicators(Merged,target):\n",
    "       \n",
    "    window_4_hr=60*4\n",
    "    window_30_M=30\n",
    "    window_1_day=60*24\n",
    "    window_2_day=60*24*2\n",
    "    window_2_weeks=60*24*14\n",
    "\n",
    "    Merged['ema 4HR'] = Merged[target].ewm(span=window_4_hr, adjust=False).mean()\n",
    "    Merged['ema 1D'] = Merged[target].ewm(span=window_1_day, adjust=False).mean()\n",
    "    Merged['ema 2W'] = Merged[target].ewm(span=window_2_weeks, adjust=False).mean()\n",
    "    Merged['SMA_50'] = ta.trend.sma_indicator(Merged[target], window=50)\n",
    "    Merged['SMA_200'] = ta.trend.sma_indicator(Merged[target], window=200)\n",
    "    Merged['SMA_12HR'] = ta.trend.sma_indicator(Merged[target], window=60*12)\n",
    "    return Merged"
   ]
  },
  {
   "cell_type": "code",
   "execution_count": null,
   "metadata": {},
   "outputs": [],
   "source": [
    "Merged=Technical_indicators(BTC,'Close')"
   ]
  },
  {
   "cell_type": "code",
   "execution_count": null,
   "metadata": {},
   "outputs": [],
   "source": [
    "Merged[['Close', 'SMA_50', 'SMA_200',]].iloc[-60*30*10:].plot()"
   ]
  },
  {
   "cell_type": "code",
   "execution_count": null,
   "metadata": {},
   "outputs": [],
   "source": [
    "'''\n",
    "ema1>Close sell\n",
    "ema1<Close buy\n",
    "SMA50>SMA200 Buy\n",
    "\n",
    "'''"
   ]
  },
  {
   "cell_type": "code",
   "execution_count": null,
   "metadata": {},
   "outputs": [],
   "source": [
    "Merged.keys()"
   ]
  },
  {
   "cell_type": "code",
   "execution_count": null,
   "metadata": {},
   "outputs": [],
   "source": [
    "60000"
   ]
  },
  {
   "cell_type": "code",
   "execution_count": null,
   "metadata": {},
   "outputs": [],
   "source": [
    "Merged['Signal']=np.where((Merged['SMA_50']>Merged['SMA_200']*1.01) & (Merged['ema 1D']*1.01<Merged['Close']),1,\n",
    "                          np.where((Merged['SMA_50']*1.01<Merged['SMA_200']) & (Merged['ema 1D']>Merged['Close']*1.01),-1,0))\n",
    "\n",
    "Merged['Signal'].unique()"
   ]
  },
  {
   "cell_type": "code",
   "execution_count": null,
   "metadata": {},
   "outputs": [],
   "source": [
    "import matplotlib.pyplot as plt\n",
    "fig, ax = plt.subplots(figsize=(10, 10))\n",
    "\n",
    "Merged['Close'][200000:500000].plot(ax=ax)\n",
    "Merged['ema 1D'][200000:500000].plot(ax=ax, style='--')\n",
    "Merged['SMA_50'][200000:500000].plot(ax=ax, style='--')\n",
    "Merged['SMA_200'][200000:500000].plot(ax=ax, style='--')\n",
    "ax.legend()\n",
    "ax2 = ax.twinx()\n",
    "Merged['Signal'][200000:500000].plot(ax=ax2, color='green', label='Signal')\n",
    "ax2.legend()\n"
   ]
  },
  {
   "cell_type": "code",
   "execution_count": null,
   "metadata": {},
   "outputs": [],
   "source": [
    "buy_signals = Merged['Signal']==1\n",
    "# sell_signal=Merged['Signal']==-1\n",
    "# Create the portfolio\n",
    "pf = vbt.Portfolio.from_signals(Merged['Close'],\n",
    "                                       entries=buy_signals,\n",
    "                                    #    exits=sell_signal,\n",
    "                                       # tp_stop=0.2,\n",
    "                                       sl_stop=0.1,\n",
    "                                       sl_trail=True,\n",
    "                                    #    short_entries=sell_signal,\n",
    "                                    #    short_exits=buy_signals,\n",
    "                                       fees=0.005,init_cash=10000)\n",
    "# Analyze the results\n",
    "portfolio_perf = pf.stats()\n",
    "# print(np.round(portfolio_perf,2))\n",
    "print((portfolio_perf))"
   ]
  },
  {
   "cell_type": "code",
   "execution_count": null,
   "metadata": {},
   "outputs": [],
   "source": [
    "pf.plot().show()"
   ]
  },
  {
   "cell_type": "code",
   "execution_count": null,
   "metadata": {},
   "outputs": [],
   "source": []
  }
 ],
 "metadata": {
  "kernelspec": {
   "display_name": "Python 3",
   "language": "python",
   "name": "python3"
  },
  "language_info": {
   "codemirror_mode": {
    "name": "ipython",
    "version": 3
   },
   "file_extension": ".py",
   "mimetype": "text/x-python",
   "name": "python",
   "nbconvert_exporter": "python",
   "pygments_lexer": "ipython3",
   "version": "3.9.13"
  }
 },
 "nbformat": 4,
 "nbformat_minor": 2
}
